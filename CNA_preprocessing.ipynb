{
 "cells": [
  {
   "cell_type": "markdown",
   "metadata": {},
   "source": [
    "# import tool"
   ]
  },
  {
   "cell_type": "code",
   "execution_count": 1,
   "metadata": {},
   "outputs": [],
   "source": [
    "import pandas as pd\n",
    "import numpy as np\n",
    "import re\n",
    "from itertools import compress\n",
    "from tqdm import tqdm\n",
    "import sys"
   ]
  },
  {
   "cell_type": "code",
   "execution_count": 2,
   "metadata": {},
   "outputs": [],
   "source": [
    "def str_adjust(str_):\n",
    "    buf = str_\n",
    "    try:\n",
    "        m = re.match(r'(.*／)(.*)', str_)\n",
    "        buf = m.group(2)\n",
    "    except:\n",
    "        pass\n",
    "    return(buf)"
   ]
  },
  {
   "cell_type": "code",
   "execution_count": 3,
   "metadata": {},
   "outputs": [
    {
     "name": "stderr",
     "output_type": "stream",
     "text": [
      "100%|████████████████████████████████████████████████████████████████████████████| 700/700 [00:00<00:00, 702059.49it/s]"
     ]
    },
    {
     "name": "stdout",
     "output_type": "stream",
     "text": [
      "preprocessing successfully\n",
      "save as CNA_title_adjust.npy\n"
     ]
    },
    {
     "name": "stderr",
     "output_type": "stream",
     "text": [
      "\n"
     ]
    }
   ],
   "source": [
    "if __name__ == '__main__':\n",
    "    FILENAME =  sys.argv[1]\n",
    "    MIN_LENGTH = int(sys.argv[2])\n",
    "#     FILENAME = \"CNA_title.csv\"\n",
    "#     MIN_LENGTH = 8\n",
    "    df = pd.read_csv(FILENAME, encoding=\"utf-8\")\n",
    "    title = df.title.to_numpy()\n",
    "\n",
    "    # 前面的標籤去除\n",
    "    title_A = [str_adjust(i) for i in tqdm(title)]\n",
    "\n",
    "    # 將 全球中央的標題 去除\n",
    "    title_B = [i for i in title_A if not i.startswith(\"全球中央\")]\n",
    "\n",
    "    # 將 標題小於 10 的 標題 去除\n",
    "    title_C = [i for i in title_B if len(i) >= MIN_LENGTH]\n",
    "\n",
    "    # save\n",
    "    name = \"%s_adjust.npy\" % FILENAME[:-4]\n",
    "    try:\n",
    "        np.save(name, title_C)\n",
    "        print(\"preprocessing successfully\")\n",
    "        print(\"save as %s\" % name)\n",
    "    except:\n",
    "        print(\"preprocessing failed\")"
   ]
  }
 ],
 "metadata": {
  "kernelspec": {
   "display_name": "Python 3",
   "language": "python",
   "name": "python3"
  },
  "language_info": {
   "codemirror_mode": {
    "name": "ipython",
    "version": 3
   },
   "file_extension": ".py",
   "mimetype": "text/x-python",
   "name": "python",
   "nbconvert_exporter": "python",
   "pygments_lexer": "ipython3",
   "version": "3.6.4"
  }
 },
 "nbformat": 4,
 "nbformat_minor": 2
}
